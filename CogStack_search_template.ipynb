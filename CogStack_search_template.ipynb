{
 "cells": [
  {
   "cell_type": "markdown",
   "metadata": {},
   "source": [
    "# COGSTACK search\n",
    "\n",
    "A basic template for CogStack queries"
   ]
  },
  {
   "cell_type": "code",
   "execution_count": null,
   "metadata": {},
   "outputs": [],
   "source": [
    "import pandas as pd\n",
    "from cogstack import CogStack"
   ]
  },
  {
   "cell_type": "code",
   "execution_count": 2,
   "metadata": {},
   "outputs": [],
   "source": [
    "import warnings\n",
    "warnings.simplefilter('ignore')"
   ]
  },
  {
   "cell_type": "markdown",
   "metadata": {},
   "source": [
    "## Login"
   ]
  },
  {
   "cell_type": "code",
   "execution_count": 3,
   "metadata": {
    "scrolled": true
   },
   "outputs": [
    {
     "name": "stdout",
     "output_type": "stream",
     "text": [
      "Password:········\n"
     ]
    }
   ],
   "source": [
    "# Login into Kibana\n",
    "username =\"Anthony shek\"\n",
    "host = 'KCH-CAP.KINGSCH.NHS.UK'\n",
    "cs = CogStack(host=host, username=username)"
   ]
  },
  {
   "cell_type": "code",
   "execution_count": 4,
   "metadata": {},
   "outputs": [],
   "source": [
    "#Information of CogStack instance\n",
    "#cs.elastic.info()"
   ]
  },
  {
   "cell_type": "markdown",
   "metadata": {},
   "source": [
    "## Query CogStack Documents"
   ]
  },
  {
   "cell_type": "code",
   "execution_count": null,
   "metadata": {
    "scrolled": true
   },
   "outputs": [],
   "source": [
    "# Test ElasticSearch client is connected\n",
    "cs.elastic.count(index='epr_documents') # Replace index"
   ]
  },
  {
   "cell_type": "code",
   "execution_count": 6,
   "metadata": {},
   "outputs": [],
   "source": [
    "# Alter each search parameter to your use case\n",
    "index = 'epr_documents'\n",
    "\n",
    "fields = ['client_idcode',\n",
    "          'clientvisit_guid',\n",
    "          'clientvisit_typecode',\n",
    "          'document_dateadded',\n",
    "          'updatetime'\n",
    "         ]\n",
    "\n"
   ]
  },
  {
   "cell_type": "markdown",
   "metadata": {},
   "source": [
    "For more information on query structure, please refer to the [Elasticsearch query guide]\n",
    "\n",
    "[Elasticsearch query guide]: https:www.elastic.co/guide/en/elasticsearch/reference/current/query-dsl-query-string-query.html"
   ]
  },
  {
   "cell_type": "code",
   "execution_count": 7,
   "metadata": {},
   "outputs": [],
   "source": [
    "# Example of query\n",
    "query = {\n",
    "  \"_source\": fields,\n",
    "  \"query\": {\n",
    "      \"bool\": {\n",
    "          \"must\": [\n",
    "              {\n",
    "                  \"query_string\": {\n",
    "                    \"query\":\"updatetime:[2020-09-20 TO now]\"\n",
    "                  }\n",
    "              }\n",
    "          ]\n",
    "      }     \n",
    "  }\n",
    "}"
   ]
  },
  {
   "cell_type": "code",
   "execution_count": 8,
   "metadata": {},
   "outputs": [],
   "source": [
    "docs = cs.get_docs_generator(query=query, index=index, es_gen_size=10000)"
   ]
  },
  {
   "cell_type": "markdown",
   "metadata": {},
   "source": [
    "## Build CSV with Search Results"
   ]
  },
  {
   "cell_type": "code",
   "execution_count": 9,
   "metadata": {},
   "outputs": [],
   "source": [
    "# For docs and meta_data\n",
    "columns = [\"id\"] + fields\n",
    "cogstack_results = [columns]\n",
    "for i, doc in enumerate(docs):\n",
    "    result = []\n",
    "    for col in columns:\n",
    "        if col == 'id':\n",
    "            result.append(doc['_id'])\n",
    "        else:\n",
    "            result.append(doc['_source'].get(col, ''))\n",
    "    cogstack_results.append(result)"
   ]
  },
  {
   "cell_type": "code",
   "execution_count": 10,
   "metadata": {},
   "outputs": [
    {
     "name": "stdout",
     "output_type": "stream",
     "text": [
      "57285\n"
     ]
    }
   ],
   "source": [
    "df_cogstack_results = pd.DataFrame(cogstack_results[1:], columns=cogstack_results[0])\n",
    "print(len(df_cogstack_results))\n",
    "#df_cogstack_results.head()"
   ]
  },
  {
   "cell_type": "markdown",
   "metadata": {},
   "source": [
    "## Save to CSV"
   ]
  },
  {
   "cell_type": "code",
   "execution_count": null,
   "metadata": {},
   "outputs": [],
   "source": [
    "df_cogstack_results.to_csv(\"Filename.csv\", index=False)"
   ]
  },
  {
   "cell_type": "code",
   "execution_count": null,
   "metadata": {},
   "outputs": [],
   "source": []
  },
  {
   "cell_type": "markdown",
   "metadata": {},
   "source": [
    "End of Script"
   ]
  }
 ],
 "metadata": {
  "kernelspec": {
   "display_name": "Python 3",
   "language": "python",
   "name": "python3"
  },
  "language_info": {
   "codemirror_mode": {
    "name": "ipython",
    "version": 3
   },
   "file_extension": ".py",
   "mimetype": "text/x-python",
   "name": "python",
   "nbconvert_exporter": "python",
   "pygments_lexer": "ipython3",
   "version": "3.8.2"
  }
 },
 "nbformat": 4,
 "nbformat_minor": 4
}
